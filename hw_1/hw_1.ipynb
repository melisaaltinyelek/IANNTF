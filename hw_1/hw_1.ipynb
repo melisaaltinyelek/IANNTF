{
 "cells": [
  {
   "cell_type": "markdown",
   "metadata": {},
   "source": [
    "#### Task 2.2 List Comprehension"
   ]
  },
  {
   "cell_type": "code",
   "execution_count": 3,
   "metadata": {},
   "outputs": [
    {
     "name": "stdout",
     "output_type": "stream",
     "text": [
      "[0, 1, 2, 3, 4, 5, 6, 7, 8, 9, 10, 11, 12, 13, 14, 15, 16, 17, 18, 19, 20, 21, 22, 23, 24, 25, 26, 27, 28, 29, 30, 31, 32, 33, 34, 35, 36, 37, 38, 39, 40, 41, 42, 43, 44, 45, 46, 47, 48, 49, 50, 51, 52, 53, 54, 55, 56, 57, 58, 59, 60, 61, 62, 63, 64, 65, 66, 67, 68, 69, 70, 71, 72, 73, 74, 75, 76, 77, 78, 79, 80, 81, 82, 83, 84, 85, 86, 87, 88, 89, 90, 91, 92, 93, 94, 95, 96, 97, 98, 99, 100]\n",
      "[0, 4, 16, 36, 64, 100, 144, 196, 256, 324, 400, 484, 576, 676, 784, 900, 1024, 1156, 1296, 1444, 1600, 1764, 1936, 2116, 2304, 2500, 2704, 2916, 3136, 3364, 3600, 3844, 4096, 4356, 4624, 4900, 5184, 5476, 5776, 6084, 6400, 6724, 7056, 7396, 7744, 8100, 8464, 8836, 9216, 9604, 10000]\n"
     ]
    }
   ],
   "source": [
    "# Generating a list of numbers from 0 to 100\n",
    "numbers = list(range(101))\n",
    "\n",
    "# Creating a list of the squares of even numbers using list comprehension\n",
    "even_squares = [x ** 2 for x in numbers if x % 2 == 0]\n",
    "\n",
    "print(numbers)\n",
    "print(even_squares)"
   ]
  },
  {
   "cell_type": "markdown",
   "metadata": {},
   "source": [
    "### Task 2.3 Generators"
   ]
  },
  {
   "cell_type": "code",
   "execution_count": 4,
   "metadata": {},
   "outputs": [
    {
     "name": "stdout",
     "output_type": "stream",
     "text": [
      "meow \n",
      "meow meow \n",
      "meow meow meow meow \n",
      "meow meow meow meow meow meow meow meow \n"
     ]
    }
   ],
   "source": [
    "def meow_generator():\n",
    "    meow_count = 1\n",
    "    while True:\n",
    "        yield \"meow \" * meow_count\n",
    "        meow_count *= 2\n",
    "\n",
    "# Create a generator\n",
    "meow_gen = meow_generator()\n",
    "\n",
    "# Generate and print values in the sequence\n",
    "for i in range(4):  # Print the first 5 values\n",
    "    value = next(meow_gen)\n",
    "    print(value)"
   ]
  },
  {
   "cell_type": "markdown",
   "metadata": {},
   "source": [
    "### 2.4 NumPy"
   ]
  },
  {
   "cell_type": "code",
   "execution_count": null,
   "metadata": {},
   "outputs": [],
   "source": [
    "import numpy as np\n",
    "\n",
    "# Setting mean and sigma values as 0 and 1.\n",
    "mu, sigma = 0, 1\n",
    "\n",
    "# Creating a 5x5 array based on these values.\n",
    "x = np.random.normal(mu, sigma, size=(5, 5))\n",
    "print(x)\n",
    "\n",
    "# Iterating through all rows and columns, checking if any given value is greater than 0.09. If so, replacing them with their squares\n",
    "# or with 42 otherwise.\n",
    "for i in range(5):\n",
    "    for j in range(5):\n",
    "        if x[i][j] > 0.09:\n",
    "            x[i][j] == x[i][j] ** 2\n",
    "        else:\n",
    "            x[i][j] == 42\n",
    "\n",
    "# Accessing the fourth column of the array.\n",
    "fourth_column = x[:, 3]\n",
    "print(f\"The fourth column is: {fourth_column}\")"
   ]
  }
 ],
 "metadata": {
  "kernelspec": {
   "display_name": "base",
   "language": "python",
   "name": "python3"
  },
  "language_info": {
   "codemirror_mode": {
    "name": "ipython",
    "version": 3
   },
   "file_extension": ".py",
   "mimetype": "text/x-python",
   "name": "python",
   "nbconvert_exporter": "python",
   "pygments_lexer": "ipython3",
   "version": "3.9.12"
  },
  "vscode": {
   "interpreter": {
    "hash": "f97cd2e723b2032ae6bd0b15a42245674c2fb85f583373d1c8ce5aeda51ce15d"
   }
  }
 },
 "nbformat": 4,
 "nbformat_minor": 2
}
